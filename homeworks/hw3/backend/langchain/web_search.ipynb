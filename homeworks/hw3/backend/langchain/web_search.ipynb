{
 "cells": [
  {
   "cell_type": "code",
   "execution_count": 2,
   "metadata": {},
   "outputs": [
    {
     "name": "stderr",
     "output_type": "stream",
     "text": [
      "/home/mtseng/miniconda3/envs/llm/lib/python3.11/site-packages/langsmith/client.py:221: LangSmithMissingAPIKeyWarning: API key must be provided when using hosted LangSmith API\n",
      "  warnings.warn(\n"
     ]
    },
    {
     "name": "stdout",
     "output_type": "stream",
     "text": [
      "\n",
      "\n",
      "\u001b[1m> Entering new AgentExecutor chain...\u001b[0m\n",
      "\u001b[32;1m\u001b[1;3mAction:\n",
      "```\n",
      "{\n",
      "  \"action\": \"google_search\",\n",
      "  \"action_input\": \"Stock price of Apple today\"\n",
      "}\n",
      "```\u001b[0m\u001b[36;1m\u001b[1;3mStock Quote: NASDAQ: AAPL · Day's Open229.34 · Closing Price225.91 · Volume64.4M · Intraday High229.83 · Intraday Low225.37. Find the latest Apple Inc. (AAPL) stock quote, history, news and other ... Stock Market Today: Indexes Fade Into The Close; Amazon Holds Above Buy ... Volume: 65.27M · 65 Day Avg: 50.57M ; 220.27 Day Range 225.35 ; 164.08 52 Week Range 237.49 ... Key Stats · Market Cap3.435T · Shares Out15.20B · 10 Day Average Volume39.53M · Dividend1.00 · Dividend Yield0.44% · Beta1.24 · YTD % Change15.78. The current price of AAPL is 222.91 USD — it has decreased by −1.33% in the past 24 hours. Watch Apple Inc stock price performance more closely on the chart. View today's Apple Inc stock price and latest AAPL news and analysis. Create real-time notifications to follow any changes in the live stock price. Mar 25, 2021 ... ... today my spreadsheet hasn't updated yesterday's closing price yet and it's almost closing time for today. (Today is Thursday 3/25 and it's ... ... price quotes at a glance. • Ask Siri questions such as “How is the Nikkei doing?” or “What is Apple's stock price?” *Top Stories and Apple News stories are ... Siri: Say something like: “What was today's closing price for Apple stock?” See stock data on Apple Watch. Go to the Stocks app on your Apple Watch. Scroll ... Sep 29, 2020 ... If you want the futures contract price, use GC=F for the price of Gold and SI=F for the price of Silver.\u001b[0m\u001b[32;1m\u001b[1;3mAction:\n",
      "```\n",
      "{\n",
      "  \"action\": \"Final Answer\",\n",
      "  \"action_input\": \"The current stock price of Apple (AAPL) is 222.91 USD, with a decrease of -1.33% in the past 24 hours.\"\n",
      "}\n",
      "```\u001b[0m\n",
      "\n",
      "\u001b[1m> Finished chain.\u001b[0m\n"
     ]
    },
    {
     "data": {
      "text/plain": [
       "{'input': 'What is the stock price of Apple today?',\n",
       " 'output': 'The current stock price of Apple (AAPL) is 222.91 USD, with a decrease of -1.33% in the past 24 hours.'}"
      ]
     },
     "execution_count": 2,
     "metadata": {},
     "output_type": "execute_result"
    }
   ],
   "source": [
    "import os\n",
    "from dotenv import load_dotenv\n",
    "from langchain_core.tools import Tool\n",
    "from langchain_google_community import GoogleSearchAPIWrapper\n",
    "from langchain_openai import ChatOpenAI\n",
    "from langchain import hub\n",
    "from langchain.agents import create_structured_chat_agent\n",
    "from langchain.agents import AgentExecutor\n",
    "load_dotenv()\n",
    "\n",
    "search = GoogleSearchAPIWrapper()\n",
    "\n",
    "tool = Tool(\n",
    "    name=\"google_search\",\n",
    "    description=\"Search Google for recent results.\",\n",
    "    func=search.run,\n",
    ")\n",
    "\n",
    "llm = ChatOpenAI(name=\"gpt-3.5-turbo\", temperature=0, max_tokens=256)\n",
    "prompt = hub.pull(\"hwchase17/structured-chat-agent\")\n",
    "agent = create_structured_chat_agent(llm=llm, tools=[tool], prompt=prompt)\n",
    "agent_executor = AgentExecutor(agent=agent, tools=[tool], verbose=True, handle_parsing_errors=True, max_iterations=5)\n",
    "agent_executor.invoke({\"input\": \"What is the stock price of Apple today?\"})"
   ]
  },
  {
   "cell_type": "code",
   "execution_count": null,
   "metadata": {},
   "outputs": [],
   "source": []
  }
 ],
 "metadata": {
  "kernelspec": {
   "display_name": "llm",
   "language": "python",
   "name": "python3"
  },
  "language_info": {
   "codemirror_mode": {
    "name": "ipython",
    "version": 3
   },
   "file_extension": ".py",
   "mimetype": "text/x-python",
   "name": "python",
   "nbconvert_exporter": "python",
   "pygments_lexer": "ipython3",
   "version": "3.11.10"
  }
 },
 "nbformat": 4,
 "nbformat_minor": 2
}
